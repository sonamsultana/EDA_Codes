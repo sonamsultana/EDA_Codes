{
 "cells": [
  {
   "cell_type": "markdown",
   "id": "c7c4e935-d390-49c2-9274-5a8f431c69ea",
   "metadata": {},
   "source": [
    "#### 01/05/25"
   ]
  },
  {
   "cell_type": "code",
   "execution_count": 4,
   "id": "8c8fc44a-dfe3-4ec8-b459-f24a8f190994",
   "metadata": {},
   "outputs": [],
   "source": [
    "import numpy as np\n",
    "import pandas as pd\n",
    "import matplotlib.pyplot as plt\n",
    "import seaborn as sns"
   ]
  },
  {
   "cell_type": "code",
   "execution_count": 5,
   "id": "3207c450-3863-4f67-9dd0-04b5ccad6eea",
   "metadata": {},
   "outputs": [
    {
     "data": {
      "text/plain": [
       "Index(['no_of_employees', 'yr_of_estab', 'prevailing_wage'], dtype='object')"
      ]
     },
     "execution_count": 5,
     "metadata": {},
     "output_type": "execute_result"
    }
   ],
   "source": [
    "visadataset_df=pd.read_csv(r'C:\\Users\\Admin\\Downloads\\visadataset.csv')\n",
    "visadataset_df\n",
    "cat=visadataset_df.select_dtypes(include='object').columns\n",
    "cat\n",
    "num=visadataset_df.select_dtypes(exclude='object').columns\n",
    "num"
   ]
  },
  {
   "cell_type": "code",
   "execution_count": 6,
   "id": "70227c03-746a-4b0c-aec3-bc3e01fe6376",
   "metadata": {},
   "outputs": [
    {
     "data": {
      "text/plain": [
       "Index(['no_of_employees', 'yr_of_estab', 'prevailing_wage'], dtype='object')"
      ]
     },
     "execution_count": 6,
     "metadata": {},
     "output_type": "execute_result"
    }
   ],
   "source": [
    "num"
   ]
  },
  {
   "cell_type": "code",
   "execution_count": 7,
   "id": "e2df66c9-3c84-426c-b6df-6cfd6479e3eb",
   "metadata": {},
   "outputs": [
    {
     "data": {
      "text/plain": [
       "Index(['case_id', 'continent', 'education_of_employee', 'has_job_experience',\n",
       "       'requires_job_training', 'region_of_employment', 'unit_of_wage',\n",
       "       'full_time_position', 'case_status'],\n",
       "      dtype='object')"
      ]
     },
     "execution_count": 7,
     "metadata": {},
     "output_type": "execute_result"
    }
   ],
   "source": [
    "cat"
   ]
  },
  {
   "cell_type": "markdown",
   "id": "99439f6a-723e-4802-87da-c9b1800dd9ba",
   "metadata": {},
   "source": [
    "- len\n",
    "- min\n",
    "- mean\n",
    "- median\n",
    "- max\n",
    "- 25p\n",
    "- 50p\n",
    "- 75p"
   ]
  },
  {
   "cell_type": "code",
   "execution_count": 8,
   "id": "fa749947-2ff1-44a0-8657-1d37c98a687e",
   "metadata": {},
   "outputs": [
    {
     "data": {
      "text/plain": [
       "0           592.2029\n",
       "1         83425.6500\n",
       "2        122996.8600\n",
       "3         83434.0300\n",
       "4        149907.3900\n",
       "            ...     \n",
       "25475     77092.5700\n",
       "25476    279174.7900\n",
       "25477    146298.8500\n",
       "25478     86154.7700\n",
       "25479     70876.9100\n",
       "Name: prevailing_wage, Length: 25480, dtype: float64"
      ]
     },
     "execution_count": 8,
     "metadata": {},
     "output_type": "execute_result"
    }
   ],
   "source": [
    "wage_data=visadataset_df['prevailing_wage'] # read the data\n",
    "wage_data"
   ]
  },
  {
   "cell_type": "code",
   "execution_count": 9,
   "id": "492908ac-baf5-4c5f-98e8-e172ab0eb2ec",
   "metadata": {},
   "outputs": [
    {
     "data": {
      "text/plain": [
       "25480"
      ]
     },
     "execution_count": 9,
     "metadata": {},
     "output_type": "execute_result"
    }
   ],
   "source": [
    "wage_count=len(wage_data)\n",
    "wage_count"
   ]
  },
  {
   "cell_type": "code",
   "execution_count": 10,
   "id": "b114de10-f85d-472c-9ad8-a34a18f6a5d8",
   "metadata": {},
   "outputs": [
    {
     "data": {
      "text/plain": [
       "2.14"
      ]
     },
     "execution_count": 10,
     "metadata": {},
     "output_type": "execute_result"
    }
   ],
   "source": [
    "wage_min=round(np.min(wage_data),2)\n",
    "wage_min"
   ]
  },
  {
   "cell_type": "code",
   "execution_count": 11,
   "id": "6716c77d-1451-4745-ace3-6cb0bd46cda1",
   "metadata": {},
   "outputs": [
    {
     "data": {
      "text/plain": [
       "319210.27"
      ]
     },
     "execution_count": 11,
     "metadata": {},
     "output_type": "execute_result"
    }
   ],
   "source": [
    "wage_max=round(np.max(wage_data),2)\n",
    "wage_max"
   ]
  },
  {
   "cell_type": "code",
   "execution_count": 12,
   "id": "834c7b25-ff03-4c7f-a2dd-f6e3e2bb7ee3",
   "metadata": {},
   "outputs": [
    {
     "data": {
      "text/plain": [
       "74455.81"
      ]
     },
     "execution_count": 12,
     "metadata": {},
     "output_type": "execute_result"
    }
   ],
   "source": [
    "wage_mean=round(np.mean(wage_data),2)\n",
    "wage_mean"
   ]
  },
  {
   "cell_type": "code",
   "execution_count": 13,
   "id": "a937634f-df3b-4c12-ab77-dd1ca14d8757",
   "metadata": {},
   "outputs": [
    {
     "data": {
      "text/plain": [
       "70308.21"
      ]
     },
     "execution_count": 13,
     "metadata": {},
     "output_type": "execute_result"
    }
   ],
   "source": [
    "wage_median=round(np.median(wage_data),2)\n",
    "wage_median"
   ]
  },
  {
   "cell_type": "code",
   "execution_count": 14,
   "id": "5998d9fc-74e0-4999-b060-10b039548b5a",
   "metadata": {},
   "outputs": [
    {
     "data": {
      "text/plain": [
       "34015.48"
      ]
     },
     "execution_count": 14,
     "metadata": {},
     "output_type": "execute_result"
    }
   ],
   "source": [
    "wage_25p=round(np.percentile(wage_data,25),2)\n",
    "wage_25p"
   ]
  },
  {
   "cell_type": "code",
   "execution_count": 15,
   "id": "b5ee2427-de37-4be9-95fa-f970a9bbb5b3",
   "metadata": {},
   "outputs": [
    {
     "data": {
      "text/plain": [
       "70308.21"
      ]
     },
     "execution_count": 15,
     "metadata": {},
     "output_type": "execute_result"
    }
   ],
   "source": [
    "wage_50p=round(np.percentile(wage_data,50),2)\n",
    "wage_50p"
   ]
  },
  {
   "cell_type": "code",
   "execution_count": 16,
   "id": "3c629a81-e174-43d7-9b37-ad0594433871",
   "metadata": {},
   "outputs": [
    {
     "data": {
      "text/plain": [
       "107735.51"
      ]
     },
     "execution_count": 16,
     "metadata": {},
     "output_type": "execute_result"
    }
   ],
   "source": [
    "wage_75p=round(np.percentile(wage_data,75),2)\n",
    "wage_75p"
   ]
  },
  {
   "cell_type": "code",
   "execution_count": 17,
   "id": "c912bada-58fa-4435-b9f5-66e28435ba71",
   "metadata": {},
   "outputs": [
    {
     "data": {
      "text/plain": [
       "34015.48"
      ]
     },
     "execution_count": 17,
     "metadata": {},
     "output_type": "execute_result"
    }
   ],
   "source": [
    "wage_25q=round(np.quantile(wage_data,0.25),2)\n",
    "wage_25q"
   ]
  },
  {
   "cell_type": "code",
   "execution_count": 18,
   "id": "60aaf2e8-5094-4aac-a4c0-9c38dddbe9be",
   "metadata": {},
   "outputs": [
    {
     "data": {
      "text/plain": [
       "70308.21"
      ]
     },
     "execution_count": 18,
     "metadata": {},
     "output_type": "execute_result"
    }
   ],
   "source": [
    "wage_50q=round(np.quantile(wage_data,0.50),2)\n",
    "wage_50q"
   ]
  },
  {
   "cell_type": "code",
   "execution_count": 19,
   "id": "85ee0527-6f65-4bd7-9507-7f4bd473948f",
   "metadata": {},
   "outputs": [
    {
     "data": {
      "text/plain": [
       "107735.51"
      ]
     },
     "execution_count": 19,
     "metadata": {},
     "output_type": "execute_result"
    }
   ],
   "source": [
    "wage_75q=round(np.quantile(wage_data,0.75),2)\n",
    "wage_75q"
   ]
  },
  {
   "cell_type": "code",
   "execution_count": 20,
   "id": "4b47a64c-78a0-4635-92ba-c3bcceb21a09",
   "metadata": {},
   "outputs": [
    {
     "data": {
      "text/plain": [
       "2.14"
      ]
     },
     "execution_count": 20,
     "metadata": {},
     "output_type": "execute_result"
    }
   ],
   "source": [
    "wage_min_pd=round(wage_data.min(),2)\n",
    "wage_min_pd"
   ]
  },
  {
   "cell_type": "code",
   "execution_count": 21,
   "id": "5bd448c5-e06c-4253-949c-f32a3dc9ab72",
   "metadata": {},
   "outputs": [
    {
     "data": {
      "text/plain": [
       "319210.27"
      ]
     },
     "execution_count": 21,
     "metadata": {},
     "output_type": "execute_result"
    }
   ],
   "source": [
    "wage_max_pd=round(wage_data.max(),2)\n",
    "wage_max_pd"
   ]
  },
  {
   "cell_type": "code",
   "execution_count": 22,
   "id": "f42c0f77-e208-41c2-bea5-0ec60e84864b",
   "metadata": {},
   "outputs": [
    {
     "data": {
      "text/plain": [
       "74455.81"
      ]
     },
     "execution_count": 22,
     "metadata": {},
     "output_type": "execute_result"
    }
   ],
   "source": [
    "wage_mean_pd=round(wage_data.mean(),2)\n",
    "wage_mean_pd"
   ]
  },
  {
   "cell_type": "code",
   "execution_count": 23,
   "id": "4a395185-5b74-454f-8056-7328156a22d0",
   "metadata": {},
   "outputs": [],
   "source": [
    "wage_median_pd=round(wage_data.median(),2)"
   ]
  },
  {
   "cell_type": "code",
   "execution_count": 24,
   "id": "05feb880-2c15-4745-b8e3-ba0daef9a0f9",
   "metadata": {},
   "outputs": [
    {
     "data": {
      "text/plain": [
       "70308.21"
      ]
     },
     "execution_count": 24,
     "metadata": {},
     "output_type": "execute_result"
    }
   ],
   "source": [
    "wage_median_pd"
   ]
  },
  {
   "cell_type": "code",
   "execution_count": 25,
   "id": "bde9faa6-958c-4855-b447-907afaad4a0d",
   "metadata": {},
   "outputs": [
    {
     "name": "stdout",
     "output_type": "stream",
     "text": [
      "The number of observations are: 25480\n",
      "The min value of wage is: 2.14\n",
      "The min value of wage is using pandas: 2.14\n",
      "The max value of wage is: 2.14\n",
      "The max value of wage is using pandas: 2.14\n",
      "The 25p value of wage is: 34015.48\n",
      "The 25q value of wage is: 34015.48\n",
      "The 50p value of wage is: 70308.21\n",
      "The 50q value of wage is: 70308.21\n",
      "The 75p value of wage is: 107735.51\n",
      "The 75q value of wage is: 107735.51\n",
      "The mean value of wage is: 74455.81\n",
      "The mean value of wage is using pandas: 74455.81\n",
      "The median value of wage is: 70308.21\n",
      "The median value of wage is using pandas: 70308.21\n"
     ]
    }
   ],
   "source": [
    "print('The number of observations are:',wage_count)\n",
    "#####################################################\n",
    "print('The min value of wage is:',wage_min)\n",
    "print('The min value of wage is using pandas:',wage_min_pd)\n",
    "###########################################################\n",
    "print('The max value of wage is:',wage_min)\n",
    "print('The max value of wage is using pandas:',wage_min_pd)\n",
    "############################################################\n",
    "print('The 25p value of wage is:',wage_25p)\n",
    "print('The 25q value of wage is:',wage_25q)\n",
    "############################################################\n",
    "print('The 50p value of wage is:',wage_50p)\n",
    "print('The 50q value of wage is:',wage_50q)\n",
    "############################################################\n",
    "print('The 75p value of wage is:',wage_75p)\n",
    "print('The 75q value of wage is:',wage_75q)\n",
    "############################################################\n",
    "print('The mean value of wage is:',wage_mean)\n",
    "print('The mean value of wage is using pandas:',wage_mean_pd)\n",
    "############################################################\n",
    "print('The median value of wage is:',wage_median)\n",
    "print('The median value of wage is using pandas:',wage_median_pd)\n",
    "###############################################################"
   ]
  },
  {
   "cell_type": "code",
   "execution_count": 23,
   "id": "74d0a557-3dc5-4c86-a974-40b53b130604",
   "metadata": {},
   "outputs": [
    {
     "data": {
      "text/html": [
       "<div>\n",
       "<style scoped>\n",
       "    .dataframe tbody tr th:only-of-type {\n",
       "        vertical-align: middle;\n",
       "    }\n",
       "\n",
       "    .dataframe tbody tr th {\n",
       "        vertical-align: top;\n",
       "    }\n",
       "\n",
       "    .dataframe thead th {\n",
       "        text-align: right;\n",
       "    }\n",
       "</style>\n",
       "<table border=\"1\" class=\"dataframe\">\n",
       "  <thead>\n",
       "    <tr style=\"text-align: right;\">\n",
       "      <th></th>\n",
       "      <th>prevailing_wage</th>\n",
       "    </tr>\n",
       "  </thead>\n",
       "  <tbody>\n",
       "    <tr>\n",
       "      <th>count</th>\n",
       "      <td>25480.00</td>\n",
       "    </tr>\n",
       "    <tr>\n",
       "      <th>min</th>\n",
       "      <td>2.14</td>\n",
       "    </tr>\n",
       "    <tr>\n",
       "      <th>max</th>\n",
       "      <td>319210.27</td>\n",
       "    </tr>\n",
       "    <tr>\n",
       "      <th>mean</th>\n",
       "      <td>74455.81</td>\n",
       "    </tr>\n",
       "    <tr>\n",
       "      <th>median</th>\n",
       "      <td>70308.21</td>\n",
       "    </tr>\n",
       "    <tr>\n",
       "      <th>25p</th>\n",
       "      <td>34015.48</td>\n",
       "    </tr>\n",
       "    <tr>\n",
       "      <th>50p</th>\n",
       "      <td>70308.21</td>\n",
       "    </tr>\n",
       "    <tr>\n",
       "      <th>75p</th>\n",
       "      <td>107735.51</td>\n",
       "    </tr>\n",
       "  </tbody>\n",
       "</table>\n",
       "</div>"
      ],
      "text/plain": [
       "        prevailing_wage\n",
       "count          25480.00\n",
       "min                2.14\n",
       "max           319210.27\n",
       "mean           74455.81\n",
       "median         70308.21\n",
       "25p            34015.48\n",
       "50p            70308.21\n",
       "75p           107735.51"
      ]
     },
     "execution_count": 23,
     "metadata": {},
     "output_type": "execute_result"
    }
   ],
   "source": [
    "data=visadataset_df['prevailing_wage']\n",
    "count=len(data)\n",
    "MIN=round(np.min(data),2)\n",
    "MAX=round(np.max(data),2)\n",
    "MEAN=round(np.mean(data),2)\n",
    "MEDIAN=round(np.median(data),2)\n",
    "p_25=round(np.percentile(data,25),2)\n",
    "p_50=round(np.percentile(data,50),2)\n",
    "p_75=round(np.percentile(data,75),2)\n",
    "values=[count,MIN,MAX,MEAN,MEDIAN,p_25,p_50,p_75]\n",
    "index=['count','min','max','mean','median','25p','50p','75p']\n",
    "pd.DataFrame(values,index,columns=['prevailing_wage'])\n",
    "    "
   ]
  },
  {
   "cell_type": "code",
   "execution_count": 24,
   "id": "0de3efbe-21f6-42d5-ba55-a7114f95b65e",
   "metadata": {},
   "outputs": [
    {
     "data": {
      "text/html": [
       "<div>\n",
       "<style scoped>\n",
       "    .dataframe tbody tr th:only-of-type {\n",
       "        vertical-align: middle;\n",
       "    }\n",
       "\n",
       "    .dataframe tbody tr th {\n",
       "        vertical-align: top;\n",
       "    }\n",
       "\n",
       "    .dataframe thead th {\n",
       "        text-align: right;\n",
       "    }\n",
       "</style>\n",
       "<table border=\"1\" class=\"dataframe\">\n",
       "  <thead>\n",
       "    <tr style=\"text-align: right;\">\n",
       "      <th></th>\n",
       "      <th>prevailing_wage</th>\n",
       "    </tr>\n",
       "  </thead>\n",
       "  <tbody>\n",
       "    <tr>\n",
       "      <th>count</th>\n",
       "      <td>25480.00</td>\n",
       "    </tr>\n",
       "    <tr>\n",
       "      <th>min</th>\n",
       "      <td>2.14</td>\n",
       "    </tr>\n",
       "    <tr>\n",
       "      <th>max</th>\n",
       "      <td>319210.27</td>\n",
       "    </tr>\n",
       "    <tr>\n",
       "      <th>mean</th>\n",
       "      <td>74455.81</td>\n",
       "    </tr>\n",
       "    <tr>\n",
       "      <th>median</th>\n",
       "      <td>70308.21</td>\n",
       "    </tr>\n",
       "    <tr>\n",
       "      <th>25p</th>\n",
       "      <td>34015.48</td>\n",
       "    </tr>\n",
       "    <tr>\n",
       "      <th>50p</th>\n",
       "      <td>70308.21</td>\n",
       "    </tr>\n",
       "    <tr>\n",
       "      <th>75p</th>\n",
       "      <td>107735.51</td>\n",
       "    </tr>\n",
       "  </tbody>\n",
       "</table>\n",
       "</div>"
      ],
      "text/plain": [
       "        prevailing_wage\n",
       "count          25480.00\n",
       "min                2.14\n",
       "max           319210.27\n",
       "mean           74455.81\n",
       "median         70308.21\n",
       "25p            34015.48\n",
       "50p            70308.21\n",
       "75p           107735.51"
      ]
     },
     "execution_count": 24,
     "metadata": {},
     "output_type": "execute_result"
    }
   ],
   "source": [
    "data=visadataset_df['prevailing_wage']\n",
    "count=len(data)\n",
    "MIN=round(np.min(data),2)\n",
    "MAX=round(np.max(data),2)\n",
    "MEAN=round(np.mean(data),2)\n",
    "MEDIAN=round(np.median(data),2)\n",
    "p_25=round(np.percentile(data,25),2)\n",
    "p_50=round(np.percentile(data,50),2)\n",
    "p_75=round(np.percentile(data,75),2)\n",
    "values=[count,MIN,MAX,MEAN,MEDIAN,p_25,p_50,p_75]\n",
    "index=['count','min','max','mean','median','25p','50p','75p']\n",
    "pd.DataFrame(values,index,columns=['prevailing_wage'])"
   ]
  },
  {
   "cell_type": "code",
   "execution_count": 25,
   "id": "ece056ba-af00-42a2-94c1-89c7268aadc9",
   "metadata": {},
   "outputs": [],
   "source": [
    "df=pd.DataFrame()\n",
    "values=[]\n",
    "for i in num:\n",
    "    count=len(wage_data)\n",
    "    MIN=round(np.min(wage_data),2)\n",
    "    MAX=round(np.max(wage_data),2)\n",
    "    MEAN=round(np.mean(wage_data),2)\n",
    "    MEDIAN=round(np.median(wage_data),2)\n",
    "    P_25=round(np.percentile(wage_data,25),2)\n",
    "    P_50=round(np.percentile(wage_data,50),2)\n",
    "    P_75=round(np.percentile(wage_data,75),2)\n",
    "    values=[count,MIN,MAX,MEAN,MEDIAN,p_25,P_50,P_75]\n",
    "    df[i]=values"
   ]
  },
  {
   "cell_type": "code",
   "execution_count": 26,
   "id": "fe1e67fe-7827-4032-b9b8-b0f79c4aced1",
   "metadata": {},
   "outputs": [
    {
     "data": {
      "text/html": [
       "<div>\n",
       "<style scoped>\n",
       "    .dataframe tbody tr th:only-of-type {\n",
       "        vertical-align: middle;\n",
       "    }\n",
       "\n",
       "    .dataframe tbody tr th {\n",
       "        vertical-align: top;\n",
       "    }\n",
       "\n",
       "    .dataframe thead th {\n",
       "        text-align: right;\n",
       "    }\n",
       "</style>\n",
       "<table border=\"1\" class=\"dataframe\">\n",
       "  <thead>\n",
       "    <tr style=\"text-align: right;\">\n",
       "      <th></th>\n",
       "      <th>no_of_employees</th>\n",
       "      <th>yr_of_estab</th>\n",
       "      <th>prevailing_wage</th>\n",
       "    </tr>\n",
       "  </thead>\n",
       "  <tbody>\n",
       "    <tr>\n",
       "      <th>count</th>\n",
       "      <td>25480.00</td>\n",
       "      <td>25480.00</td>\n",
       "      <td>25480.00</td>\n",
       "    </tr>\n",
       "    <tr>\n",
       "      <th>min</th>\n",
       "      <td>2.14</td>\n",
       "      <td>2.14</td>\n",
       "      <td>2.14</td>\n",
       "    </tr>\n",
       "    <tr>\n",
       "      <th>max</th>\n",
       "      <td>319210.27</td>\n",
       "      <td>319210.27</td>\n",
       "      <td>319210.27</td>\n",
       "    </tr>\n",
       "    <tr>\n",
       "      <th>mean</th>\n",
       "      <td>74455.81</td>\n",
       "      <td>74455.81</td>\n",
       "      <td>74455.81</td>\n",
       "    </tr>\n",
       "    <tr>\n",
       "      <th>median</th>\n",
       "      <td>70308.21</td>\n",
       "      <td>70308.21</td>\n",
       "      <td>70308.21</td>\n",
       "    </tr>\n",
       "    <tr>\n",
       "      <th>25p</th>\n",
       "      <td>34015.48</td>\n",
       "      <td>34015.48</td>\n",
       "      <td>34015.48</td>\n",
       "    </tr>\n",
       "    <tr>\n",
       "      <th>50p</th>\n",
       "      <td>70308.21</td>\n",
       "      <td>70308.21</td>\n",
       "      <td>70308.21</td>\n",
       "    </tr>\n",
       "    <tr>\n",
       "      <th>75p</th>\n",
       "      <td>107735.51</td>\n",
       "      <td>107735.51</td>\n",
       "      <td>107735.51</td>\n",
       "    </tr>\n",
       "  </tbody>\n",
       "</table>\n",
       "</div>"
      ],
      "text/plain": [
       "        no_of_employees  yr_of_estab  prevailing_wage\n",
       "count          25480.00     25480.00         25480.00\n",
       "min                2.14         2.14             2.14\n",
       "max           319210.27    319210.27        319210.27\n",
       "mean           74455.81     74455.81         74455.81\n",
       "median         70308.21     70308.21         70308.21\n",
       "25p            34015.48     34015.48         34015.48\n",
       "50p            70308.21     70308.21         70308.21\n",
       "75p           107735.51    107735.51        107735.51"
      ]
     },
     "execution_count": 26,
     "metadata": {},
     "output_type": "execute_result"
    }
   ],
   "source": [
    "index=['count','min','max','mean','median','25p','50p','75p']\n",
    "df.index=index\n",
    "df"
   ]
  },
  {
   "cell_type": "code",
   "execution_count": 27,
   "id": "4ad0a841-c2b4-417d-a095-8005af0343d2",
   "metadata": {},
   "outputs": [
    {
     "data": {
      "text/html": [
       "<div>\n",
       "<style scoped>\n",
       "    .dataframe tbody tr th:only-of-type {\n",
       "        vertical-align: middle;\n",
       "    }\n",
       "\n",
       "    .dataframe tbody tr th {\n",
       "        vertical-align: top;\n",
       "    }\n",
       "\n",
       "    .dataframe thead th {\n",
       "        text-align: right;\n",
       "    }\n",
       "</style>\n",
       "<table border=\"1\" class=\"dataframe\">\n",
       "  <thead>\n",
       "    <tr style=\"text-align: right;\">\n",
       "      <th></th>\n",
       "      <th>no_of_employees</th>\n",
       "      <th>yr_of_estab</th>\n",
       "      <th>prevailing_wage</th>\n",
       "    </tr>\n",
       "  </thead>\n",
       "  <tbody>\n",
       "    <tr>\n",
       "      <th>0</th>\n",
       "      <td>25480.00</td>\n",
       "      <td>25480.00</td>\n",
       "      <td>25480.00</td>\n",
       "    </tr>\n",
       "    <tr>\n",
       "      <th>1</th>\n",
       "      <td>2.14</td>\n",
       "      <td>2.14</td>\n",
       "      <td>2.14</td>\n",
       "    </tr>\n",
       "    <tr>\n",
       "      <th>2</th>\n",
       "      <td>319210.27</td>\n",
       "      <td>319210.27</td>\n",
       "      <td>319210.27</td>\n",
       "    </tr>\n",
       "    <tr>\n",
       "      <th>3</th>\n",
       "      <td>74455.81</td>\n",
       "      <td>74455.81</td>\n",
       "      <td>74455.81</td>\n",
       "    </tr>\n",
       "    <tr>\n",
       "      <th>4</th>\n",
       "      <td>70308.21</td>\n",
       "      <td>70308.21</td>\n",
       "      <td>70308.21</td>\n",
       "    </tr>\n",
       "    <tr>\n",
       "      <th>5</th>\n",
       "      <td>34015.48</td>\n",
       "      <td>34015.48</td>\n",
       "      <td>34015.48</td>\n",
       "    </tr>\n",
       "    <tr>\n",
       "      <th>6</th>\n",
       "      <td>70308.21</td>\n",
       "      <td>70308.21</td>\n",
       "      <td>70308.21</td>\n",
       "    </tr>\n",
       "    <tr>\n",
       "      <th>7</th>\n",
       "      <td>107735.51</td>\n",
       "      <td>107735.51</td>\n",
       "      <td>107735.51</td>\n",
       "    </tr>\n",
       "  </tbody>\n",
       "</table>\n",
       "</div>"
      ],
      "text/plain": [
       "   no_of_employees  yr_of_estab  prevailing_wage\n",
       "0         25480.00     25480.00         25480.00\n",
       "1             2.14         2.14             2.14\n",
       "2        319210.27    319210.27        319210.27\n",
       "3         74455.81     74455.81         74455.81\n",
       "4         70308.21     70308.21         70308.21\n",
       "5         34015.48     34015.48         34015.48\n",
       "6         70308.21     70308.21         70308.21\n",
       "7        107735.51    107735.51        107735.51"
      ]
     },
     "execution_count": 27,
     "metadata": {},
     "output_type": "execute_result"
    }
   ],
   "source": [
    "df=pd.DataFrame()\n",
    "for i in num:\n",
    "    df[i]=values\n",
    "df"
   ]
  },
  {
   "cell_type": "code",
   "execution_count": 28,
   "id": "ae596789-92de-4689-a26f-705e1c5edc00",
   "metadata": {},
   "outputs": [
    {
     "data": {
      "text/html": [
       "<div>\n",
       "<style scoped>\n",
       "    .dataframe tbody tr th:only-of-type {\n",
       "        vertical-align: middle;\n",
       "    }\n",
       "\n",
       "    .dataframe tbody tr th {\n",
       "        vertical-align: top;\n",
       "    }\n",
       "\n",
       "    .dataframe thead th {\n",
       "        text-align: right;\n",
       "    }\n",
       "</style>\n",
       "<table border=\"1\" class=\"dataframe\">\n",
       "  <thead>\n",
       "    <tr style=\"text-align: right;\">\n",
       "      <th></th>\n",
       "      <th>no_of_employees</th>\n",
       "      <th>yr_of_estab</th>\n",
       "      <th>prevailing_wage</th>\n",
       "    </tr>\n",
       "  </thead>\n",
       "  <tbody>\n",
       "    <tr>\n",
       "      <th>count</th>\n",
       "      <td>25480.000000</td>\n",
       "      <td>25480.000000</td>\n",
       "      <td>25480.000000</td>\n",
       "    </tr>\n",
       "    <tr>\n",
       "      <th>mean</th>\n",
       "      <td>5667.043210</td>\n",
       "      <td>1979.409929</td>\n",
       "      <td>74455.814592</td>\n",
       "    </tr>\n",
       "    <tr>\n",
       "      <th>std</th>\n",
       "      <td>22877.928848</td>\n",
       "      <td>42.366929</td>\n",
       "      <td>52815.942327</td>\n",
       "    </tr>\n",
       "    <tr>\n",
       "      <th>min</th>\n",
       "      <td>-26.000000</td>\n",
       "      <td>1800.000000</td>\n",
       "      <td>2.136700</td>\n",
       "    </tr>\n",
       "    <tr>\n",
       "      <th>25%</th>\n",
       "      <td>1022.000000</td>\n",
       "      <td>1976.000000</td>\n",
       "      <td>34015.480000</td>\n",
       "    </tr>\n",
       "    <tr>\n",
       "      <th>50%</th>\n",
       "      <td>2109.000000</td>\n",
       "      <td>1997.000000</td>\n",
       "      <td>70308.210000</td>\n",
       "    </tr>\n",
       "    <tr>\n",
       "      <th>75%</th>\n",
       "      <td>3504.000000</td>\n",
       "      <td>2005.000000</td>\n",
       "      <td>107735.512500</td>\n",
       "    </tr>\n",
       "    <tr>\n",
       "      <th>max</th>\n",
       "      <td>602069.000000</td>\n",
       "      <td>2016.000000</td>\n",
       "      <td>319210.270000</td>\n",
       "    </tr>\n",
       "  </tbody>\n",
       "</table>\n",
       "</div>"
      ],
      "text/plain": [
       "       no_of_employees   yr_of_estab  prevailing_wage\n",
       "count     25480.000000  25480.000000     25480.000000\n",
       "mean       5667.043210   1979.409929     74455.814592\n",
       "std       22877.928848     42.366929     52815.942327\n",
       "min         -26.000000   1800.000000         2.136700\n",
       "25%        1022.000000   1976.000000     34015.480000\n",
       "50%        2109.000000   1997.000000     70308.210000\n",
       "75%        3504.000000   2005.000000    107735.512500\n",
       "max      602069.000000   2016.000000    319210.270000"
      ]
     },
     "execution_count": 28,
     "metadata": {},
     "output_type": "execute_result"
    }
   ],
   "source": [
    "visadataset_df.describe()"
   ]
  },
  {
   "cell_type": "markdown",
   "id": "c816d737-bbae-4158-8e00-53c8ff66c34e",
   "metadata": {},
   "source": [
    "**percentile**\n",
    "- 25percentage of data less than 34015.48\n",
    "- 25 percentage data= 25*25480/100=6370\n",
    "- 6370 members has salary less than 34015.47"
   ]
  },
  {
   "cell_type": "code",
   "execution_count": 29,
   "id": "11aef3f9-d473-4dca-abfb-25eb78f31c68",
   "metadata": {},
   "outputs": [
    {
     "data": {
      "text/plain": [
       "34015.479999999996"
      ]
     },
     "execution_count": 29,
     "metadata": {},
     "output_type": "execute_result"
    }
   ],
   "source": [
    "wage_data=visadataset_df['prevailing_wage']\n",
    "p_25=np.percentile(wage_data,25)\n",
    "p_25"
   ]
  },
  {
   "cell_type": "code",
   "execution_count": 30,
   "id": "98d2b18c-d305-45a7-b456-3860b3ae0e03",
   "metadata": {},
   "outputs": [
    {
     "data": {
      "text/plain": [
       "6370"
      ]
     },
     "execution_count": 30,
     "metadata": {},
     "output_type": "execute_result"
    }
   ],
   "source": [
    "con=wage_data<p_25\n",
    "len(visadataset_df[con])"
   ]
  },
  {
   "cell_type": "markdown",
   "id": "e11200d3-c62d-4042-85b9-d161dac15b0c",
   "metadata": {},
   "source": [
    "**Emperical Rule**\n",
    "  \n",
    "- u-1sigma to u+1sigma how much data 68p"
   ]
  },
  {
   "cell_type": "code",
   "execution_count": 31,
   "id": "c11eeaa8-6720-4391-9b70-d60ec805b5a7",
   "metadata": {},
   "outputs": [
    {
     "data": {
      "text/plain": [
       "0           592.2029\n",
       "1         83425.6500\n",
       "2        122996.8600\n",
       "3         83434.0300\n",
       "4        149907.3900\n",
       "            ...     \n",
       "25475     77092.5700\n",
       "25476    279174.7900\n",
       "25477    146298.8500\n",
       "25478     86154.7700\n",
       "25479     70876.9100\n",
       "Name: prevailing_wage, Length: 25480, dtype: float64"
      ]
     },
     "execution_count": 31,
     "metadata": {},
     "output_type": "execute_result"
    }
   ],
   "source": [
    "wage_data=visadataset_df['prevailing_wage']\n",
    "wage_data"
   ]
  },
  {
   "cell_type": "code",
   "execution_count": 32,
   "id": "d59073c3-e27b-49b6-b01f-20108eb68970",
   "metadata": {},
   "outputs": [],
   "source": [
    "# step-1: u=calculate mean of wage data\n",
    "# step-2: sd=calculate sd of wage data\n",
    "# step-3: lb=u-1*sd\n",
    "# step-4: ub=u+1*sd\n",
    "# step-5: con1= wage_data>lb\n",
    "# step-6: con2=wage_data<ub\n",
    "# step-7: con= con1 and con2\n",
    "# step-8: len(visa_df[con])\n",
    "# step-9: 68*25480/100"
   ]
  },
  {
   "cell_type": "code",
   "execution_count": 33,
   "id": "04240048-6477-416c-8044-e9e0d4d7ba1f",
   "metadata": {},
   "outputs": [
    {
     "data": {
      "text/plain": [
       "False"
      ]
     },
     "execution_count": 33,
     "metadata": {},
     "output_type": "execute_result"
    }
   ],
   "source": [
    "u=np.mean(wage_data)\n",
    "sd=np.std(wage_data)\n",
    "lower_bound=u-1*sd\n",
    "upper_bound=u+1*sd\n",
    "con1=wage_data > lower_bound\n",
    "con2=wage_data < upper_bound\n",
    "con= (con1 & con2)\n",
    "a=len(visadataset_df[con])\n",
    "b=68*25480/100\n",
    "a==b"
   ]
  },
  {
   "cell_type": "code",
   "execution_count": 34,
   "id": "a69992ba-70d4-45bd-adb0-7e312a45f0c0",
   "metadata": {},
   "outputs": [
    {
     "data": {
      "text/plain": [
       "False"
      ]
     },
     "execution_count": 34,
     "metadata": {},
     "output_type": "execute_result"
    }
   ],
   "source": [
    "u=np.mean(wage_data)\n",
    "sd=np.std(wage_data)\n",
    "lower_bound=u-2*sd\n",
    "upper_bound=u+2*sd\n",
    "con1=wage_data > lower_bound\n",
    "con2=wage_data < upper_bound\n",
    "con= (con1 & con2)\n",
    "a=len(visadataset_df[con])\n",
    "b=95*25480/100\n",
    "a==b"
   ]
  },
  {
   "cell_type": "code",
   "execution_count": 35,
   "id": "91a6a4ad-626f-48ef-aa32-7cf72ecc7744",
   "metadata": {},
   "outputs": [
    {
     "data": {
      "text/plain": [
       "False"
      ]
     },
     "execution_count": 35,
     "metadata": {},
     "output_type": "execute_result"
    }
   ],
   "source": [
    "u=np.mean(wage_data)\n",
    "sd=np.std(wage_data)\n",
    "lower_bound=u-3*sd\n",
    "upper_bound=u+3*sd\n",
    "con1=wage_data > lower_bound\n",
    "con2=wage_data < upper_bound\n",
    "con= (con1 & con2)\n",
    "a=len(visadataset_df[con])\n",
    "b=99.7*25480/100\n",
    "a==b"
   ]
  },
  {
   "cell_type": "code",
   "execution_count": null,
   "id": "d064c156-d6b8-4fbe-bccf-589133b743c0",
   "metadata": {},
   "outputs": [],
   "source": []
  },
  {
   "cell_type": "markdown",
   "id": "1319bba2-e778-43ab-9c50-4cef078a1469",
   "metadata": {},
   "source": [
    "### 02/05/25"
   ]
  },
  {
   "cell_type": "markdown",
   "id": "19a69d96-3188-4bfa-90af-5dbf9b3eddb0",
   "metadata": {},
   "source": [
    "**Histogram**"
   ]
  },
  {
   "cell_type": "code",
   "execution_count": 36,
   "id": "25d4d9ed-3ab0-45c9-9e2a-5013b83a6161",
   "metadata": {},
   "outputs": [
    {
     "data": {
      "image/png": "[encoded data removed]",
      "text/plain": [
       "<Figure size 640x480 with 1 Axes>"
      ]
     },
     "metadata": {},
     "output_type": "display_data"
    }
   ],
   "source": [
    "counts,intervals,bins=plt.hist(wage_data)"
   ]
  },
  {
   "cell_type": "code",
   "execution_count": 37,
   "id": "d82c0cae-f3b4-4696-8d05-e7cd3c0781da",
   "metadata": {},
   "outputs": [
    {
     "data": {
      "text/plain": [
       "array([6038., 5504., 5681., 4551., 2334.,  624.,  373.,  240.,  114.,\n",
       "         21.])"
      ]
     },
     "execution_count": 37,
     "metadata": {},
     "output_type": "execute_result"
    }
   ],
   "source": [
    "counts"
   ]
  },
  {
   "cell_type": "code",
   "execution_count": 38,
   "id": "21837c94-3c88-4207-91e7-404754dd9770",
   "metadata": {},
   "outputs": [
    {
     "data": {
      "text/plain": [
       "array([2.13670000e+00, 3.19229500e+04, 6.38437634e+04, 9.57645767e+04,\n",
       "       1.27685390e+05, 1.59606203e+05, 1.91527017e+05, 2.23447830e+05,\n",
       "       2.55368643e+05, 2.87289457e+05, 3.19210270e+05])"
      ]
     },
     "execution_count": 38,
     "metadata": {},
     "output_type": "execute_result"
    }
   ],
   "source": [
    "intervals"
   ]
  },
  {
   "cell_type": "code",
   "execution_count": 39,
   "id": "83a448ae-a7f4-47db-9116-d5d0fc8b72ef",
   "metadata": {},
   "outputs": [
    {
     "data": {
      "text/plain": [
       "31922.95"
      ]
     },
     "execution_count": 39,
     "metadata": {},
     "output_type": "execute_result"
    }
   ],
   "source": [
    "3.19229500e+04"
   ]
  },
  {
   "cell_type": "code",
   "execution_count": null,
   "id": "bfe24cd1-1d98-42a5-989d-b71d176348fa",
   "metadata": {},
   "outputs": [],
   "source": [
    "there are 6038 observations between 2.13670000e+00 to 3.19229500e+04\n",
    "there are 5504 observations between 3.19229500e+04 to 6.38437634e+04"
   ]
  },
  {
   "cell_type": "code",
   "execution_count": 48,
   "id": "0f8fc153-7667-4f16-8e52-1e1116d5d068",
   "metadata": {},
   "outputs": [
    {
     "name": "stdout",
     "output_type": "stream",
     "text": [
      "6038\n"
     ]
    }
   ],
   "source": [
    "u=np.mean(wage_data)\n",
    "sd=np.std(wage_data)\n",
    "lower_bound=2.13670000e+00\n",
    "upper_bound=3.19229500e+04\n",
    "con1=wage_data >=lower_bound\n",
    "con2=wage_data <= upper_bound\n",
    "con= (con1 & con2)\n",
    "a=len(visadataset_df[con])\n",
    "b=68*25480/100\n",
    "print(a)"
   ]
  },
  {
   "cell_type": "code",
   "execution_count": 41,
   "id": "3efa5531-3c4c-4f3c-b8ac-d470e52cc1a3",
   "metadata": {},
   "outputs": [
    {
     "name": "stdout",
     "output_type": "stream",
     "text": [
      "5504\n"
     ]
    }
   ],
   "source": [
    "u=np.mean(wage_data)\n",
    "sd=np.std(wage_data)\n",
    "lower_bound= 3.19229500e+04\n",
    "upper_bound=  6.38437634e+04\n",
    "con1=wage_data >= lower_bound\n",
    "con2=wage_data <= upper_bound\n",
    "con= (con1 & con2)\n",
    "a=len(visadataset_df[con])\n",
    "b=95*25480/100\n",
    "print(a)"
   ]
  },
  {
   "cell_type": "code",
   "execution_count": 49,
   "id": "37e8c8eb-0305-4c00-be94-e0ef7eea4c1f",
   "metadata": {},
   "outputs": [
    {
     "data": {
      "image/png": "[encoded data removed]",
      "text/plain": [
       "<Figure size 640x480 with 1 Axes>"
      ]
     },
     "metadata": {},
     "output_type": "display_data"
    }
   ],
   "source": [
    "counts,intervals,bins=plt.hist(wage_data,bins=40)"
   ]
  },
  {
   "cell_type": "code",
   "execution_count": 50,
   "id": "dd83ce25-8cd2-481c-9a42-b61fd1327594",
   "metadata": {},
   "outputs": [
    {
     "data": {
      "image/png": "[encoded data removed]",
      "text/plain": [
       "<Figure size 640x480 with 1 Axes>"
      ]
     },
     "metadata": {},
     "output_type": "display_data"
    }
   ],
   "source": [
    "counts,intervals,bins=plt.hist(wage_data,bins=100)"
   ]
  },
  {
   "cell_type": "code",
   "execution_count": 52,
   "id": "1eb968c7-e743-44e2-b28f-81df53e92841",
   "metadata": {},
   "outputs": [
    {
     "data": {
      "image/png": "[encoded data removed]",
      "text/plain": [
       "<Figure size 1400x300 with 3 Axes>"
      ]
     },
     "metadata": {},
     "output_type": "display_data"
    }
   ],
   "source": [
    "plt.figure(figsize=(14,3))\n",
    "plt.subplot(1,3,1)\n",
    "plt.hist(wage_data)\n",
    "plt.subplot(1,3,2)\n",
    "plt.hist(wage_data,bins=40)\n",
    "plt.subplot(1,3,3)\n",
    "plt.hist(wage_data,bins=100)\n",
    "plt.show()"
   ]
  },
  {
   "cell_type": "code",
   "execution_count": 54,
   "id": "0811c5b6-0243-41a9-bdbb-f65f112e0b45",
   "metadata": {},
   "outputs": [
    {
     "data": {
      "image/png": "[encoded data removed]",
      "text/plain": [
       "<Figure size 1400x300 with 3 Axes>"
      ]
     },
     "metadata": {},
     "output_type": "display_data"
    }
   ],
   "source": [
    "plt.figure(figsize=(14,3))\n",
    "plt.subplot(1,3,1).hist(wage_data)\n",
    "plt.subplot(1,3,2).hist(wage_data,bins=40)\n",
    "plt.subplot(1,3,3).hist(wage_data,bins=100)\n",
    "plt.show()"
   ]
  },
  {
   "cell_type": "markdown",
   "id": "a8193a8b-0c2b-4432-987a-60e44d75973e",
   "metadata": {},
   "source": [
    "**sns.histplot**"
   ]
  },
  {
   "cell_type": "code",
   "execution_count": 55,
   "id": "25d10bc3-0354-4c4d-abca-b1b508681db9",
   "metadata": {},
   "outputs": [
    {
     "data": {
      "text/plain": [
       "<Axes: xlabel='prevailing_wage', ylabel='Count'>"
      ]
     },
     "execution_count": 55,
     "metadata": {},
     "output_type": "execute_result"
    },
    {
     "data": {
      "image/png": "[encoded data removed]",
      "text/plain": [
       "<Figure size 640x480 with 1 Axes>"
      ]
     },
     "metadata": {},
     "output_type": "display_data"
    }
   ],
   "source": [
    "sns.histplot(wage_data)"
   ]
  },
  {
   "cell_type": "code",
   "execution_count": 56,
   "id": "86b1cd51-83fd-4677-9b35-26d8c2b19a47",
   "metadata": {},
   "outputs": [
    {
     "data": {
      "text/plain": [
       "<Axes: xlabel='prevailing_wage', ylabel='Count'>"
      ]
     },
     "execution_count": 56,
     "metadata": {},
     "output_type": "execute_result"
    },
    {
     "data": {
      "image/png": "[encoded data removed]",
      "text/plain": [
       "<Figure size 640x480 with 1 Axes>"
      ]
     },
     "metadata": {},
     "output_type": "display_data"
    }
   ],
   "source": [
    "sns.histplot(wage_data,kde=True)"
   ]
  },
  {
   "cell_type": "code",
   "execution_count": 42,
   "id": "1d973903-b86c-403b-9612-7f4691e4862b",
   "metadata": {},
   "outputs": [
    {
     "name": "stderr",
     "output_type": "stream",
     "text": [
      "C:\\Users\\Admin\\AppData\\Local\\Temp\\ipykernel_13948\\2820360041.py:1: UserWarning: \n",
      "\n",
      "`distplot` is a deprecated function and will be removed in seaborn v0.14.0.\n",
      "\n",
      "Please adapt your code to use either `displot` (a figure-level function with\n",
      "similar flexibility) or `histplot` (an axes-level function for histograms).\n",
      "\n",
      "For a guide to updating your code to use the new functions, please see\n",
      "https://gist.github.com/mwaskom/de44147ed2974457ad6372750bbe5751\n",
      "\n",
      "  sns.distplot(wage_data)\n"
     ]
    },
    {
     "data": {
      "text/plain": [
       "<Axes: xlabel='prevailing_wage', ylabel='Density'>"
      ]
     },
     "execution_count": 42,
     "metadata": {},
     "output_type": "execute_result"
    },
    {
     "data": {
      "image/png": "[encoded data removed]",
      "text/plain": [
       "<Figure size 640x480 with 1 Axes>"
      ]
     },
     "metadata": {},
     "output_type": "display_data"
    }
   ],
   "source": [
    "sns.distplot(wage_data)"
   ]
  },
  {
   "cell_type": "code",
   "execution_count": 43,
   "id": "8a0e7cca-b8f8-4fe3-99a0-c80d8f65694e",
   "metadata": {},
   "outputs": [
    {
     "data": {
      "text/plain": [
       "<Axes: xlabel='prevailing_wage', ylabel='Density'>"
      ]
     },
     "execution_count": 43,
     "metadata": {},
     "output_type": "execute_result"
    },
    {
     "data": {
      "image/png": "[encoded data removed]",
      "text/plain": [
       "<Figure size 640x480 with 1 Axes>"
      ]
     },
     "metadata": {},
     "output_type": "display_data"
    }
   ],
   "source": [
    "import warnings\n",
    "warnings.filterwarnings('ignore')\n",
    "sns.distplot(wage_data)"
   ]
  },
  {
   "cell_type": "code",
   "execution_count": null,
   "id": "517d6d0d-d690-49b7-9315-2dac3deb7ea8",
   "metadata": {},
   "outputs": [],
   "source": []
  }
 ],
 "metadata": {
  "kernelspec": {
   "display_name": "Python 3 (ipykernel)",
   "language": "python",
   "name": "python3"
  },
  "language_info": {
   "codemirror_mode": {
    "name": "ipython",
    "version": 3
   },
   "file_extension": ".py",
   "mimetype": "text/x-python",
   "name": "python",
   "nbconvert_exporter": "python",
   "pygments_lexer": "ipython3",
   "version": "3.12.7"
  }
 },
 "nbformat": 4,
 "nbformat_minor": 5
}
